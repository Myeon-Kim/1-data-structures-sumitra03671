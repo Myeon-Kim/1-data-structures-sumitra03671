{
  "nbformat": 4,
  "nbformat_minor": 0,
  "metadata": {
    "colab": {
      "provenance": [],
      "include_colab_link": true
    },
    "kernelspec": {
      "name": "python3",
      "display_name": "Python 3"
    },
    "language_info": {
      "name": "python"
    }
  },
  "cells": [
    {
      "cell_type": "markdown",
      "metadata": {
        "id": "view-in-github",
        "colab_type": "text"
      },
      "source": [
        "<a href=\"https://colab.research.google.com/github/Myeon-Kim/1-data-structures-sumitra03671/blob/main/Travel_Korea!.ipynb\" target=\"_parent\"><img src=\"https://colab.research.google.com/assets/colab-badge.svg\" alt=\"Open In Colab\"/></a>"
      ]
    },
    {
      "cell_type": "code",
      "execution_count": null,
      "metadata": {
        "id": "qQ7kOZHHIJuV"
      },
      "outputs": [],
      "source": [
        "# @title 기본 제목 텍스트\n",
        "import heapq\n",
        "import networkx as nx\n",
        "import\n",
        "\n",
        "landmarks = {\n",
        "    \"Jeonju\": {\n",
        "        \"Daejeon\": 62,\n",
        "        \"Gwangju\": 80,\n",
        "        \"Jinju\": 116\n",
        "    },\n",
        "    \"Jinju\":{\n",
        "        \"Jeonju\": 116,\n",
        "        \"Busan\":86\n",
        "    },\n",
        "    \"Jinju\": {\"Jeonju\":116, \"Busan\": 86},\n",
        "    \"Gwangju\":{\"Jeonju\":80, \"Daejeon\": 142},\n",
        "    \"Busan\":{\n",
        "        \"Jinju\":86,\n",
        "        \"Ulsan\": 46\n",
        "    },\n",
        "    \"Ulsan\": {\"Daejeon\": 197, \"Busan\": 46},\n",
        "    \"Jeju\": {\"Busan\": 299},\n",
        "    \"Daejeon\" :{\n",
        "        \"Jeonju\":62,\n",
        "        \"Ulsan\": 197,\n",
        "        \"Gwangju\": 142\n",
        "    }\n",
        "}\n",
        "\n",
        "\n",
        "\n",
        "#BFS (shortest path)\n",
        "def bfs(graph, start):\n",
        "    visited = set()\n",
        "    queue = [(start, [start])]\n",
        "\n",
        "    while queue:\n",
        "      current, path = queue.pop(0)\n",
        "      if current == end:\n",
        "        return path\n",
        "      it current not in visited:\n",
        "        visited.add(current)\n",
        "        for neighbor in graph[current]:\n",
        "          queue.append((neighbor, path +[neighbor]))\n",
        "    return None\n",
        "\n",
        "\n",
        "#dijkstra's (Shortest travel time)\n",
        "def difkstra(graph, start):\n",
        "  min_heap = [(0, start)]\n",
        "  times = {landmark:float('inf') for landmark in graph}\n",
        "  times[start] = 0\n",
        "  while min_heap:\n",
        "    current_time, current_landmark = heapq.heappop(min_heap)\n",
        "    for neighbor, time in graph[current_landmark],items():\n",
        "      new_time = current_time + time\n",
        "      if new_time < times[neighbor]:\n",
        "        times[neighbor] = new time\n",
        "        heapq.heappush(min_heap, (new_time, neighbor))\n",
        "  return times\n",
        "\n",
        "\n",
        "\n",
        "  #Examples\n",
        "  print(\"BFS from Jeonju to Jeju\")\n",
        "  print(bfs(landmarks, \"Jeonju\"))\n",
        "\n",
        "  print(\"\\nDijkstra's from Jeonju:\")\n",
        "  print(dijkstra(landmarks, \"Jeonju\"))\n"
      ]
    },
    {
      "cell_type": "code",
      "source": [
        "from google.colab import drive\n",
        "drive.mount('/content/drive')"
      ],
      "metadata": {
        "id": "DVX3se92P3lT"
      },
      "execution_count": null,
      "outputs": []
    }
  ]
}